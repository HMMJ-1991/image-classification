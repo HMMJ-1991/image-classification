{
 "cells": [
  {
   "cell_type": "code",
   "execution_count": null,
   "metadata": {
    "colab": {
     "base_uri": "https://localhost:8080/",
     "height": 51
    },
    "colab_type": "code",
    "id": "iZc2Fpd9VuaD",
    "outputId": "0a08c52f-94f1-4dbb-8847-0b0b475cc2f6"
   },
   "outputs": [
    {
     "name": "stdout",
     "output_type": "stream",
     "text": [
      "Downloading data from https://storage.googleapis.com/tensorflow/tf-keras-datasets/mnist.npz\n",
      "11493376/11490434 [==============================] - 0s 0us/step\n"
     ]
    }
   ],
   "source": [
    "# import MINST dataset\n",
    "import tensorflow as tf\n",
    "(x_train, y_train), (x_test, y_test) = tf.keras.datasets.mnist.load_data()"
   ]
  },
  {
   "cell_type": "code",
   "execution_count": null,
   "metadata": {
    "colab": {
     "base_uri": "https://localhost:8080/",
     "height": 299
    },
    "colab_type": "code",
    "id": "0zUilSZmVuaO",
    "outputId": "6112bea0-2a83-4488-d8bd-a825ce32cfb9"
   },
   "outputs": [
    {
     "name": "stdout",
     "output_type": "stream",
     "text": [
      "4\n"
     ]
    },
    {
     "data": {
      "text/plain": [
       "<matplotlib.image.AxesImage at 0x7fe32c3f82b0>"
      ]
     },
     "execution_count": 2,
     "metadata": {
      "tags": []
     },
     "output_type": "execute_result"
    },
    {
     "data": {
      "image/png": "[encoded data removed]",
      "text/plain": [
       "<Figure size 432x288 with 1 Axes>"
      ]
     },
     "metadata": {
      "needs_background": "light",
      "tags": []
     },
     "output_type": "display_data"
    }
   ],
   "source": [
    "import matplotlib.pyplot as plt\n",
    "\n",
    "# create plots in same page\n",
    "%matplotlib inline \n",
    "\n",
    "#  select a random number to display\n",
    "# we can select anything up to 60,000 as the trainig data has 60,000 images\n",
    "image_index = 7077 \n",
    "\n",
    "print(y_train[image_index]) \n",
    "\n",
    "plt.imshow(x_train[image_index], cmap='Greys')"
   ]
  },
  {
   "cell_type": "markdown",
   "metadata": {
    "colab_type": "text",
    "id": "Ibb8a5wAVuaY"
   },
   "source": [
    "In order to train the CNN, we need to know the shape of the training dataset. \n",
    "\n",
    "The output: (60000, 28, 28) revelas two details about the dataset.\n",
    "1. The number of image in the training set : which is 60,000\n",
    "2. The size of the image in pixels (28 * 28)"
   ]
  },
  {
   "cell_type": "code",
   "execution_count": null,
   "metadata": {
    "colab": {},
    "colab_type": "code",
    "id": "djoub6hoVuaa",
    "outputId": "22fe8520-1f85-43d0-bd6a-1d6ff13167ab"
   },
   "outputs": [
    {
     "data": {
      "text/plain": [
       "(60000, 28, 28)"
      ]
     },
     "execution_count": 9,
     "metadata": {
      "tags": []
     },
     "output_type": "execute_result"
    }
   ],
   "source": [
    "\n",
    "x_train.shape"
   ]
  },
  {
   "cell_type": "markdown",
   "metadata": {
    "colab_type": "text",
    "id": "kixqJ5U2WZWx"
   },
   "source": [
    "After going throguh the dataset, the below implementation will create a CNN for model building.\n",
    "\n",
    "In a image classification problem, it is considered that the dependency between two pixels are only related with the adjacent and close pixels. Therefore a technique like CNN is suitable for image classification where it's convolution allows the model to preserve the relationship between different parts of an image.\n",
    "\n",
    "In the convolution layer which is the first layer of the model, the features of the image is extracted. In that layer the pixels are processed using a pixel filer that decreases the size of the image without loosing the relationship between pixels.\n",
    "\n",
    "The feature map, which is the output of an image and the filter tells where the features are in the image. The higher the value, the more the corresponding place in the image resembles the feature. The dynamic nature of the model leraning as the features are not pre-defined according to a particular formalism, but learned by the network during the training phase was a high point in choosing the CNN for this criteria."
   ]
  },
  {
   "cell_type": "markdown",
   "metadata": {
    "colab_type": "text",
    "id": "h0j19MA6WfDQ"
   },
   "source": [
    "As the Keras is looing for a 4-dims numpy arrays, the shape of the dataset is reshaped to match the requirement."
   ]
  },
  {
   "cell_type": "code",
   "execution_count": null,
   "metadata": {
    "colab": {},
    "colab_type": "code",
    "id": "qBBuYJCnVuai"
   },
   "outputs": [],
   "source": [
    "# Reshaping the array to 4-dims so that it can work with the Keras API\n",
    "x_train = x_train.reshape(x_train.shape[0], 28, 28, 1)\n",
    "x_test = x_test.reshape(x_test.shape[0], 28, 28, 1)\n",
    "input_shape = (28, 28, 1)"
   ]
  },
  {
   "cell_type": "markdown",
   "metadata": {
    "colab_type": "text",
    "id": "EYMKyKjhr5sz"
   },
   "source": [
    "Normalise the training and testing dataset."
   ]
  },
  {
   "cell_type": "code",
   "execution_count": null,
   "metadata": {
    "colab": {},
    "colab_type": "code",
    "id": "7PLl8nsUWqwD"
   },
   "outputs": [],
   "source": [
    "# Normalize the training and testing dataset \n",
    "x_train = tf.keras.utils.normalize(x_train, axis=1)\n",
    "x_test = tf.keras.utils.normalize(x_test, axis=1)"
   ]
  },
  {
   "cell_type": "markdown",
   "metadata": {},
   "source": [
    "For the model development, I have used Keras sequential model and added Conv2D, MaxPooling, Flatten, Dropout and Dense layers. \n",
    "\n",
    "The dropout layers helps reducing the model overfitting disregarding some of the neurons and the Flatten layers flatten 2D arrays to 1D array before building the fully connected layers.  "
   ]
  },
  {
   "cell_type": "code",
   "execution_count": null,
   "metadata": {
    "colab": {},
    "colab_type": "code",
    "id": "IrjwHxiQW73g"
   },
   "outputs": [],
   "source": [
    "# Importing the required Keras modules containing model and layers\n",
    "from tensorflow.keras.models import Sequential\n",
    "from tensorflow.keras.layers import Dense, Conv2D, Dropout, Flatten, MaxPooling2D\n",
    "# Creating a Sequential Model and adding the layers\n",
    "model = Sequential()\n",
    "model.add(Conv2D(28, kernel_size=(3,3), input_shape=input_shape))\n",
    "model.add(MaxPooling2D(pool_size=(2, 2)))\n",
    "model.add(Flatten()) # Flattening the 2D arrays for fully connected layers\n",
    "model.add(Dense(128, activation=tf.nn.relu))\n",
    "model.add(Dropout(0.2))\n",
    "model.add(Dense(10,activation=tf.nn.softmax))"
   ]
  },
  {
   "cell_type": "code",
   "execution_count": null,
   "metadata": {
    "colab": {
     "base_uri": "https://localhost:8080/",
     "height": 374
    },
    "colab_type": "code",
    "id": "eHXG5chKXBx9",
    "outputId": "80c53a51-4aa0-4fea-83cf-45b72e39e36b"
   },
   "outputs": [
    {
     "name": "stdout",
     "output_type": "stream",
     "text": [
      "Epoch 1/10\n",
      "1875/1875 [==============================] - 31s 17ms/step - loss: 0.2350 - accuracy: 0.9302\n",
      "Epoch 2/10\n",
      "1875/1875 [==============================] - 31s 17ms/step - loss: 0.1011 - accuracy: 0.9691\n",
      "Epoch 3/10\n",
      "1875/1875 [==============================] - 31s 17ms/step - loss: 0.0710 - accuracy: 0.9775\n",
      "Epoch 4/10\n",
      "1875/1875 [==============================] - 32s 17ms/step - loss: 0.0534 - accuracy: 0.9829\n",
      "Epoch 5/10\n",
      "1875/1875 [==============================] - 31s 16ms/step - loss: 0.0418 - accuracy: 0.9858\n",
      "Epoch 6/10\n",
      "1875/1875 [==============================] - 31s 17ms/step - loss: 0.0333 - accuracy: 0.9889\n",
      "Epoch 7/10\n",
      "1875/1875 [==============================] - 31s 17ms/step - loss: 0.0266 - accuracy: 0.9908\n",
      "Epoch 8/10\n",
      "1875/1875 [==============================] - 32s 17ms/step - loss: 0.0229 - accuracy: 0.9927\n",
      "Epoch 9/10\n",
      "1875/1875 [==============================] - 32s 17ms/step - loss: 0.0205 - accuracy: 0.9931\n",
      "Epoch 10/10\n",
      "1875/1875 [==============================] - 31s 17ms/step - loss: 0.0183 - accuracy: 0.9938\n"
     ]
    },
    {
     "data": {
      "text/plain": [
       "<tensorflow.python.keras.callbacks.History at 0x7fe325910cc0>"
      ]
     },
     "execution_count": 7,
     "metadata": {
      "tags": []
     },
     "output_type": "execute_result"
    }
   ],
   "source": [
    "model.compile(optimizer='adam', \n",
    "              loss='sparse_categorical_crossentropy', \n",
    "              metrics=['accuracy'])\n",
    "model.fit(x=x_train,y=y_train, epochs=10)"
   ]
  },
  {
   "cell_type": "markdown",
   "metadata": {
    "colab_type": "text",
    "id": "Dvho4EILhlUs"
   },
   "source": [
    "Epoch 1/10\n",
    "1875/1875 [==============================] - 31s 17ms/step - loss: 0.2350 - accuracy: 0.9302\n",
    "\n",
    "Epoch 2/10\n",
    "1875/1875 [==============================] - 31s 17ms/step - loss: 0.1011 - accuracy: 0.9691\n",
    "\n",
    "Epoch 3/10\n",
    "1875/1875 [==============================] - 31s 17ms/step - loss: 0.0710 - accuracy: 0.9775\n",
    "\n",
    "Epoch 4/10\n",
    "1875/1875 [==============================] - 32s 17ms/step - loss: 0.0534 - accuracy: 0.9829\n",
    "\n",
    "Epoch 5/10\n",
    "1875/1875 [==============================] - 31s 16ms/step - loss: 0.0418 - accuracy: 0.9858\n",
    "\n",
    "Epoch 6/10\n",
    "1875/1875 [==============================] - 31s 17ms/step - loss: 0.0333 - accuracy: 0.9889\n",
    "\n",
    "Epoch 7/10\n",
    "1875/1875 [==============================] - 31s 17ms/step - loss: 0.0266 - accuracy: 0.9908\n",
    "\n",
    "Epoch 8/10\n",
    "1875/1875 [==============================] - 32s 17ms/step - loss: 0.0229 - accuracy: 0.9927\n",
    "\n",
    "Epoch 9/10\n",
    "1875/1875 [==============================] - 32s 17ms/step - loss: 0.0205 - accuracy: 0.9931\n",
    "\n",
    "Epoch 10/10\n",
    "1875/1875 [==============================] - 31s 17ms/step - loss: 0.0183 - accuracy: 0.9938\n",
    "<tensorflow.python.keras.callbacks.History at 0x7fe325910cc0>"
   ]
  },
  {
   "cell_type": "code",
   "execution_count": null,
   "metadata": {
    "colab": {
     "base_uri": "https://localhost:8080/",
     "height": 51
    },
    "colab_type": "code",
    "id": "h95QWrM5XDXj",
    "outputId": "8f3beedc-2a79-4317-f83d-05ab704eb943"
   },
   "outputs": [
    {
     "name": "stdout",
     "output_type": "stream",
     "text": [
      "313/313 [==============================] - 2s 7ms/step - loss: 0.0644 - accuracy: 0.9830\n"
     ]
    },
    {
     "data": {
      "text/plain": [
       "[0.06436172127723694, 0.9829999804496765]"
      ]
     },
     "execution_count": 8,
     "metadata": {
      "tags": []
     },
     "output_type": "execute_result"
    }
   ],
   "source": [
    "model.evaluate(x_test, y_test)"
   ]
  },
  {
   "cell_type": "code",
   "execution_count": null,
   "metadata": {
    "colab": {
     "base_uri": "https://localhost:8080/",
     "height": 282
    },
    "colab_type": "code",
    "id": "tF3KGLV_XTTv",
    "outputId": "d897b012-df22-4b61-afba-ef55826560ff"
   },
   "outputs": [
    {
     "name": "stdout",
     "output_type": "stream",
     "text": [
      "9\n"
     ]
    },
    {
     "data": {
      "image/png": "[encoded data removed]",
      "text/plain": [
       "<Figure size 432x288 with 1 Axes>"
      ]
     },
     "metadata": {
      "needs_background": "light",
      "tags": []
     },
     "output_type": "display_data"
    }
   ],
   "source": [
    "image_index = 4444\n",
    "plt.imshow(x_test[image_index].reshape(28, 28),cmap='Greys')\n",
    "pred = model.predict(x_test[image_index].reshape(1, 28, 28, 1))\n",
    "print(pred.argmax())"
   ]
  },
  {
   "cell_type": "markdown",
   "metadata": {
    "colab_type": "text",
    "id": "j7TIj8hpWSkQ"
   },
   "source": []
  },
  {
   "cell_type": "markdown",
   "metadata": {
    "colab_type": "text",
    "id": "uAzb83hgVuap"
   },
   "source": [
    "Resources:\n",
    "\n",
    "\n",
    "[1]: MINST data catelog; https://www.tensorflow.org/datasets/catalog/mnist\n",
    "\n",
    "[2]: THE MNIST DATABASE of handwritten digits; Yann LeCun, Corinna Cortes, Christopher J.C. Burges; http://yann.lecun.com/exdb/mnist/\n",
    "\n",
    "[3]: Understand the architecture of CNN; https://towardsdatascience.com/understand-the-architecture-of-cnn-90a25e244c7\n"
   ]
  },
  {
   "cell_type": "code",
   "execution_count": null,
   "metadata": {
    "colab": {},
    "colab_type": "code",
    "id": "Ww3mzIDNVuar"
   },
   "outputs": [],
   "source": []
  }
 ],
 "metadata": {
  "colab": {
   "collapsed_sections": [],
   "name": "Answer_1.ipynb",
   "provenance": []
  },
  "kernelspec": {
   "display_name": "Python 3",
   "language": "python",
   "name": "python3"
  },
  "language_info": {
   "codemirror_mode": {
    "name": "ipython",
    "version": 3
   },
   "file_extension": ".py",
   "mimetype": "text/x-python",
   "name": "python",
   "nbconvert_exporter": "python",
   "pygments_lexer": "ipython3",
   "version": "3.6.9"
  }
 },
 "nbformat": 4,
 "nbformat_minor": 1
}
