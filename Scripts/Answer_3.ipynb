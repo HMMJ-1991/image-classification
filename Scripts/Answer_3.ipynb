{
  "nbformat": 4,
  "nbformat_minor": 0,
  "metadata": {
    "colab": {
      "name": "Answer_3.ipynb",
      "provenance": [],
      "collapsed_sections": []
    },
    "kernelspec": {
      "name": "python3",
      "display_name": "Python 3"
    }
  },
  "cells": [
    {
      "cell_type": "code",
      "metadata": {
        "id": "ExdoJEfZw-pi",
        "colab_type": "code",
        "colab": {}
      },
      "source": [
        ""
      ],
      "execution_count": null,
      "outputs": []
    },
    {
      "cell_type": "markdown",
      "metadata": {
        "id": "VqpAspZfxCB_",
        "colab_type": "text"
      },
      "source": [
        "In Question 2, we are adding noise to the training dataset which means that we have noise in the input layer. With the change in the noise factor of above question 2, the final accuracy of the model is changed. When the model is trained with the noise facotor of 0.2, the accuracy was around 0.5851. But when the noise factor is decreased to 0.2 to 0.1, the accuracy has improved to 0.6116. \n",
        "\n",
        "\n",
        "Which means that too much noise reduces the overall accuracy but with the proper noise, the accuracy can be improved. "
      ]
    }
  ]
}