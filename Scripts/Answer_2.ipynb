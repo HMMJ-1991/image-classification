{
  "nbformat": 4,
  "nbformat_minor": 0,
  "metadata": {
    "colab": {
      "name": "Answer_2.ipynb",
      "provenance": [],
      "collapsed_sections": []
    },
    "kernelspec": {
      "name": "python3",
      "display_name": "Python 3"
    }
  },
  "cells": [
    {
      "cell_type": "code",
      "metadata": {
        "id": "XZPljXJGqlK1",
        "colab_type": "code",
        "colab": {
          "base_uri": "https://localhost:8080/",
          "height": 51
        },
        "outputId": "f88b63f8-8c85-4ffb-f1e5-727dbb5a8d40"
      },
      "source": [
        "# import MINST dataset\n",
        "import tensorflow as tf\n",
        "(x_train, y_train), (x_test, y_test) = tf.keras.datasets.mnist.load_data()"
      ],
      "execution_count": 1,
      "outputs": [
        {
          "output_type": "stream",
          "text": [
            "Downloading data from https://storage.googleapis.com/tensorflow/tf-keras-datasets/mnist.npz\n",
            "11493376/11490434 [==============================] - 0s 0us/step\n"
          ],
          "name": "stdout"
        }
      ]
    },
    {
      "cell_type": "code",
      "metadata": {
        "id": "X0lLnOiqquF4",
        "colab_type": "code",
        "colab": {
          "base_uri": "https://localhost:8080/",
          "height": 299
        },
        "outputId": "5a9cd39a-348b-4ec0-e193-4aef0bf8cff2"
      },
      "source": [
        "import matplotlib.pyplot as plt\n",
        "\n",
        "# create plots in same page\n",
        "%matplotlib inline \n",
        "\n",
        "#  select a random number to display\n",
        "# we can select anything up to 60,000 as the trainig data has 60,000 images\n",
        "image_index = 7077 \n",
        "\n",
        "print(y_train[image_index]) \n",
        "\n",
        "plt.imshow(x_train[image_index], cmap='Greys')"
      ],
      "execution_count": 2,
      "outputs": [
        {
          "output_type": "stream",
          "text": [
            "4\n"
          ],
          "name": "stdout"
        },
        {
          "output_type": "execute_result",
          "data": {
            "text/plain": [
              "<matplotlib.image.AxesImage at 0x7f6c371f6320>"
            ]
          },
          "metadata": {
            "tags": []
          },
          "execution_count": 2
        },
        {
          "output_type": "display_data",
          "data": {
            "image/png": "[encoded data removed]",
            "text/plain": [
              "<Figure size 432x288 with 1 Axes>"
            ]
          },
          "metadata": {
            "tags": [],
            "needs_background": "light"
          }
        }
      ]
    },
    {
      "cell_type": "code",
      "metadata": {
        "id": "xWelnSXVq0iu",
        "colab_type": "code",
        "colab": {}
      },
      "source": [
        "# Reshaping the array to 4-dims so that it can work with the Keras API\n",
        "x_train = x_train.reshape(x_train.shape[0], 28, 28, 1)\n",
        "x_test = x_test.reshape(x_test.shape[0], 28, 28, 1)\n",
        "input_shape = (28, 28, 1)"
      ],
      "execution_count": 3,
      "outputs": []
    },
    {
      "cell_type": "markdown",
      "metadata": {
        "id": "1Ceq2Kc_uXgA",
        "colab_type": "text"
      },
      "source": [
        "Introduce noise to the training and testing data. The chosen noise factor is 0.2."
      ]
    },
    {
      "cell_type": "code",
      "metadata": {
        "id": "RntYTX9Yq1nc",
        "colab_type": "code",
        "colab": {}
      },
      "source": [
        "import numpy as np\n",
        "\n",
        "noise_factor = 0.2\n",
        "x_train_noisy = x_train + noise_factor * np.random.normal(loc=0.0, scale=1.0, size=x_train.shape)\n",
        "x_test_noisy = x_test + noise_factor * np.random.normal(loc=0.0, scale=1.0, size=x_test.shape)\n",
        "\n",
        "X_train_noisy = np.clip(x_train_noisy, 0. , 1.)\n",
        "X_test_noisy = np.clip(x_test_noisy, 0. , 1.)"
      ],
      "execution_count": 4,
      "outputs": []
    },
    {
      "cell_type": "code",
      "metadata": {
        "id": "IH3Mmgilq_qV",
        "colab_type": "code",
        "colab": {}
      },
      "source": [
        "# Normalize the training and testing dataset \n",
        "x_train_noisy = tf.keras.utils.normalize(x_train_noisy, axis=1)\n",
        "X_test_noisy = tf.keras.utils.normalize(X_test_noisy, axis=1)"
      ],
      "execution_count": 5,
      "outputs": []
    },
    {
      "cell_type": "code",
      "metadata": {
        "id": "tIP2fkGRrEU9",
        "colab_type": "code",
        "colab": {}
      },
      "source": [
        "# Importing the required Keras modules containing model and layers\n",
        "from tensorflow.keras.models import Sequential\n",
        "from tensorflow.keras.layers import Dense, Conv2D, Dropout, Flatten, MaxPooling2D\n",
        "\n",
        "\n",
        "# Creating a Sequential Model and adding the layers\n",
        "model = Sequential()\n",
        "model.add(Conv2D(28, kernel_size=(3,3), input_shape=input_shape))\n",
        "model.add(MaxPooling2D(pool_size=(2, 2)))\n",
        "model.add(Flatten()) # Flattening the 2D arrays for fully connected layers\n",
        "model.add(Dense(128, activation=tf.nn.relu))\n",
        "model.add(Dropout(0.2))\n",
        "model.add(Dense(10,activation=tf.nn.softmax))"
      ],
      "execution_count": 6,
      "outputs": []
    },
    {
      "cell_type": "code",
      "metadata": {
        "id": "tmybcYlorKsS",
        "colab_type": "code",
        "colab": {
          "base_uri": "https://localhost:8080/",
          "height": 374
        },
        "outputId": "95f3af82-416c-4aaa-d1d9-426ec26bda99"
      },
      "source": [
        "model.compile(optimizer='adam', \n",
        "              loss='sparse_categorical_crossentropy', \n",
        "              metrics=['accuracy'])\n",
        "model.fit(x=x_train_noisy,y=y_train, epochs=10)"
      ],
      "execution_count": 7,
      "outputs": [
        {
          "output_type": "stream",
          "text": [
            "Epoch 1/10\n",
            "1875/1875 [==============================] - 32s 17ms/step - loss: 0.2686 - accuracy: 0.9192\n",
            "Epoch 2/10\n",
            "1875/1875 [==============================] - 32s 17ms/step - loss: 0.1142 - accuracy: 0.9654\n",
            "Epoch 3/10\n",
            "1875/1875 [==============================] - 32s 17ms/step - loss: 0.0789 - accuracy: 0.9757\n",
            "Epoch 4/10\n",
            "1875/1875 [==============================] - 32s 17ms/step - loss: 0.0581 - accuracy: 0.9815\n",
            "Epoch 5/10\n",
            "1875/1875 [==============================] - 32s 17ms/step - loss: 0.0443 - accuracy: 0.9855\n",
            "Epoch 6/10\n",
            "1875/1875 [==============================] - 32s 17ms/step - loss: 0.0360 - accuracy: 0.9876\n",
            "Epoch 7/10\n",
            "1875/1875 [==============================] - 32s 17ms/step - loss: 0.0301 - accuracy: 0.9894\n",
            "Epoch 8/10\n",
            "1875/1875 [==============================] - 32s 17ms/step - loss: 0.0282 - accuracy: 0.9902\n",
            "Epoch 9/10\n",
            "1875/1875 [==============================] - 32s 17ms/step - loss: 0.0226 - accuracy: 0.9921\n",
            "Epoch 10/10\n",
            "1875/1875 [==============================] - 32s 17ms/step - loss: 0.0226 - accuracy: 0.9923\n"
          ],
          "name": "stdout"
        },
        {
          "output_type": "execute_result",
          "data": {
            "text/plain": [
              "<tensorflow.python.keras.callbacks.History at 0x7f6c3077ad30>"
            ]
          },
          "metadata": {
            "tags": []
          },
          "execution_count": 7
        }
      ]
    },
    {
      "cell_type": "markdown",
      "metadata": {
        "id": "CeA6F1pRs8m5",
        "colab_type": "text"
      },
      "source": [
        "Epoch 1/10\n",
        "1875/1875 [==============================] - 32s 17ms/step - loss: 0.2686 - accuracy: 0.9192\n",
        "\n",
        "Epoch 2/10\n",
        "1875/1875 [==============================] - 32s 17ms/step - loss: 0.1142 - accuracy: 0.9654\n",
        "\n",
        "Epoch 3/10\n",
        "1875/1875 [==============================] - 32s 17ms/step - loss: 0.0789 - accuracy: 0.9757\n",
        "\n",
        "Epoch 4/10\n",
        "1875/1875 [==============================] - 32s 17ms/step - loss: 0.0581 - accuracy: 0.9815\n",
        "\n",
        "Epoch 5/10\n",
        "1875/1875 [==============================] - 32s 17ms/step - loss: 0.0443 - accuracy: 0.9855\n",
        "\n",
        "Epoch 6/10\n",
        "1875/1875 [==============================] - 32s 17ms/step - loss: 0.0360 - accuracy: 0.9876\n",
        "\n",
        "Epoch 7/10\n",
        "1875/1875 [==============================] - 32s 17ms/step - loss: 0.0301 - accuracy: 0.9894\n",
        "\n",
        "Epoch 8/10\n",
        "1875/1875 [==============================] - 32s 17ms/step - loss: 0.0282 - accuracy: 0.9902\n",
        "\n",
        "Epoch 9/10\n",
        "1875/1875 [==============================] - 32s 17ms/step - loss: 0.0226 - accuracy: 0.9921\n",
        "\n",
        "Epoch 10/10\n",
        "1875/1875 [==============================] - 32s 17ms/step - loss: 0.0226 - accuracy: 0.9923\n",
        "<tensorflow.python.keras.callbacks.History at 0x7f6c3077ad30>"
      ]
    },
    {
      "cell_type": "markdown",
      "metadata": {
        "id": "ChSn-drnujj4",
        "colab_type": "text"
      },
      "source": [
        "Evaluate the model accuracy"
      ]
    },
    {
      "cell_type": "code",
      "metadata": {
        "id": "o24poBEgrWOJ",
        "colab_type": "code",
        "colab": {
          "base_uri": "https://localhost:8080/",
          "height": 51
        },
        "outputId": "a493dd52-9aa7-4d15-974b-0e089ebdc2fa"
      },
      "source": [
        "model.evaluate(x_test, y_test)"
      ],
      "execution_count": 8,
      "outputs": [
        {
          "output_type": "stream",
          "text": [
            "313/313 [==============================] - 2s 6ms/step - loss: 3720.9731 - accuracy: 0.5851\n"
          ],
          "name": "stdout"
        },
        {
          "output_type": "execute_result",
          "data": {
            "text/plain": [
              "[3720.97314453125, 0.585099995136261]"
            ]
          },
          "metadata": {
            "tags": []
          },
          "execution_count": 8
        }
      ]
    },
    {
      "cell_type": "markdown",
      "metadata": {
        "id": "DvKZF3jOtHu0",
        "colab_type": "text"
      },
      "source": [
        "loss: 3720.9731 - accuracy: 0.5851"
      ]
    }
  ]
}